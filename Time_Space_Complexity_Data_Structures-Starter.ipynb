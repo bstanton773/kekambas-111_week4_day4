{
 "cells": [
  {
   "cell_type": "markdown",
   "metadata": {},
   "source": [
    "# Time/Space Complexity - Intro to Data Structures (User Defined)\n",
    "\n",
    "### Topics to discuss today:\n",
    "\n",
    "<ul>\n",
    "    <li>Time and Space Complexity - What is it/How do we measure it</li>\n",
    "    <li>Asymptotic Analysis</li>\n",
    "    <li><strong>Data Structures</strong></li>\n",
    "    <li>Some of the popular sorting algorithms</li>\n",
    "</ul>\n",
    "\n",
    "### Data Structures to discuss:\n",
    "- Arrays\n",
    "- Stacks\n",
    "- Queues\n",
    "- Linked Lists\n",
    "    - Singly Linked Lists\n",
    "    - Traversing A Linked List\n",
    "    - Finding a node in a linked list\n",
    "    - Adding to a linked list\n",
    "- Binary Search Trees\n",
    "    - Construction\n",
    "    - Traversal\n"
   ]
  },
  {
   "cell_type": "markdown",
   "metadata": {},
   "source": [
    "## Time and Space Complexity\n",
    "\n",
    "#### What is it?\n",
    "\n",
    "Time and space complexity is the measure of how much time a given action(function) will take to solve a problem. In the same fashion, we determine how much a given data structure will need in terms of memory allocation. A problem can have multiple solutions and finding the optimal solution for the problem needs to be analyzed in time and space.\n",
    "\n",
    "#### How do we measure Time and Space Complexity?\n",
    "\n",
    "In order to measure time and space complexity we use Asymptotic analysis. The reason for this is because we need a way to measure different algorithms (functions) based on the size of their inputs in a mathmatical way. For example, we could have a function that is computed as f(n) and another that is g(n^2). All things around the function staying constant, the only thing that changes is the size of the input. Below is the chart that shows the different Asymptotic analysis formats. "
   ]
  },
  {
   "cell_type": "markdown",
   "metadata": {},
   "source": [
    "<table style=\"text-align:center;\" class=\"table table-bordered\">\n",
    "<tbody><tr>\n",
    "<td>constant</td>\n",
    "<td>−</td>\n",
    "<td>Ο(1)</td>\n",
    "</tr>\n",
    "<tr>\n",
    "<td>logarithmic</td>\n",
    "<td>−</td>\n",
    "<td>Ο(log n)</td>\n",
    "</tr>\n",
    "<tr>\n",
    "<td>linear</td>\n",
    "<td>−</td>\n",
    "<td>Ο(n)</td>\n",
    "</tr>\n",
    "<tr>\n",
    "<td>Linear Logarithmic</td>\n",
    "<td>−</td>\n",
    "<td>Ο(n log n)</td>\n",
    "</tr>\n",
    "<tr>\n",
    "<td>quadratic</td>\n",
    "<td>−</td>\n",
    "<td>Ο(n<sup>2</sup>)</td>\n",
    "</tr>\n",
    "<tr>\n",
    "<td>cubic</td>\n",
    "<td>−</td>\n",
    "<td>Ο(n<sup>3</sup>)</td>\n",
    "</tr>\n",
    "<tr>\n",
    "<td>polynomial</td>\n",
    "<td>−</td>\n",
    "<td>n<sup>Ο(1)</sup></td>\n",
    "</tr>\n",
    "<tr>\n",
    "<td>exponential</td>\n",
    "<td>−</td>\n",
    "<td>2<sup>Ο(n)</sup></td>\n",
    "</tr>\n",
    "</tbody></table>"
   ]
  },
  {
   "cell_type": "markdown",
   "metadata": {},
   "source": [
    "## Arrays"
   ]
  },
  {
   "cell_type": "markdown",
   "metadata": {},
   "source": [
    "In python we benefit from the dynamic array which means the block of memory will expand as needed for the given input to the array. In traditional arrays (depending on the type of operating system) we will usually store our inputs in 4 or 8 consecutive blocks of memory. "
   ]
  },
  {
   "cell_type": "markdown",
   "metadata": {},
   "source": [
    "## Which in python looks like this:"
   ]
  },
  {
   "cell_type": "code",
   "execution_count": 4,
   "metadata": {},
   "outputs": [
    {
     "name": "stdout",
     "output_type": "stream",
     "text": [
      "[0, 1, 2, 3, 4, 5, 6, 7, 8, 9, 10, 11, 12, 13, 14, 15, 16, 17, 18, 19, 20, 21, 22, 23, 24, 25, 26, 27, 28, 29, 30, 31, 32, 33, 34, 35, 36, 37, 38, 39]\n"
     ]
    }
   ],
   "source": [
    "my_list = []\n",
    "\n",
    "for x in range(40):\n",
    "    my_list.append(x)\n",
    "    \n",
    "print(my_list)"
   ]
  },
  {
   "cell_type": "code",
   "execution_count": 5,
   "metadata": {},
   "outputs": [
    {
     "name": "stdout",
     "output_type": "stream",
     "text": [
      "[1, 2, 3, 4, 5, 6, 7, 8, 9, 10]\n",
      "[1, 2, 3, 4, 5, 6, 7, 8, 9, 10]\n"
     ]
    }
   ],
   "source": [
    "list_of_10 = []\n",
    "\n",
    "for i in range(1,11):\n",
    "    list_of_10.append(i)\n",
    "    \n",
    "comp_of_10 = [i for i in range(1,11)]\n",
    "\n",
    "print(list_of_10)\n",
    "print(comp_of_10)"
   ]
  },
  {
   "cell_type": "markdown",
   "metadata": {},
   "source": [
    "### Let's take a look at some of the time and space analysis of arrays"
   ]
  },
  {
   "cell_type": "code",
   "execution_count": 7,
   "metadata": {},
   "outputs": [],
   "source": [
    "array = [23, 34, 23, 123, 7, 86, 234]"
   ]
  },
  {
   "cell_type": "code",
   "execution_count": 12,
   "metadata": {},
   "outputs": [
    {
     "name": "stdout",
     "output_type": "stream",
     "text": [
      "123\n",
      "True\n",
      "[23, 34, 23, 123, 7, 86, 234]\n",
      "[23, 34, 1000, 123, 7, 86, 234]\n"
     ]
    }
   ],
   "source": [
    "# Indexing a list\n",
    "# Constant Time and Space - O(1)\n",
    "\n",
    "indexing = array[3]\n",
    "print(indexing)\n",
    "\n",
    "\n",
    "# Searching through an array\n",
    "# Linear Time - O(n) and Constant Space - O(1)\n",
    "print(234 in array)\n",
    "\n",
    "# Copy a List\n",
    "# Linear Time - O(n) and Linear Space - O(n)\n",
    "copied_array = array[:]\n",
    "print(copied_array)\n",
    "\n",
    "# Assigning an index value to a list\n",
    "# Constant Time - O(1) and Constant Space - O(1)\n",
    "array[2] = 1000\n",
    "print(array)"
   ]
  },
  {
   "cell_type": "code",
   "execution_count": 15,
   "metadata": {
    "scrolled": true
   },
   "outputs": [
    {
     "name": "stdout",
     "output_type": "stream",
     "text": [
      "0\n",
      "0\n",
      "0\n",
      "0\n",
      "0\n",
      "0\n",
      "1\n",
      "4\n",
      "9\n",
      "16\n",
      "0\n",
      "4\n",
      "16\n",
      "36\n",
      "64\n",
      "0\n",
      "9\n",
      "36\n",
      "81\n",
      "144\n",
      "0\n",
      "16\n",
      "64\n",
      "144\n",
      "256\n",
      "0\n",
      "1\n",
      "4\n",
      "9\n",
      "16\n"
     ]
    },
    {
     "data": {
      "text/plain": [
       "[0, 1, 4, 9, 16]"
      ]
     },
     "execution_count": 15,
     "metadata": {},
     "output_type": "execute_result"
    }
   ],
   "source": [
    "def some_func(arr):\n",
    "    for x in range(len(arr)): # O(n) - Linear Time\n",
    "        arr[x] = x**2 # O(1) - Constant Time\n",
    "    for i in arr: # O(n) - Linear Time\n",
    "        for j in arr: # O(n) - Linear Time\n",
    "            print(i * j) # O(1) - Constant Time\n",
    "    for r in arr: # O(n) - Linear Time\n",
    "        print(r) # O(1) - Constant Time\n",
    "    return arr # O(1) - Constant Time\n",
    "\n",
    "\n",
    "some_func([1, 2, 3, 4, 5]) # O(n * 1 + (n * n * 1) + n * 1 + 1 )\n",
    "# O(n + n**2 + n + 1)\n",
    "# O(n**2 + 2n + 1)\n",
    "# Drop Constants and lower order complexities\n",
    "# O(n**2)"
   ]
  },
  {
   "cell_type": "markdown",
   "metadata": {},
   "source": [
    "## Stacks and Queues (Review)\n",
    "\n",
    "** Stacks ** as the name suggests is a data structure that allows for data to follow the Last In First Out priciple(LIFO). Think of a stack of pancakes for example. To get the first pancake you would  start with the top and go down.\n",
    "\n",
    "##### Searching through a stack will be Linear Time O(n) - Constant Space O(1)\n",
    "##### Selecting the first item will be done in Linear Time O(n) - Constant Space O(1)\n",
    "##### Selecting the last item will be done in Constant Time O(1) - Constant Space O(1)\n",
    "##### Adding to the stack will be done in Constant Time O(1) - Constant Space O(1)\n",
    "\n",
    "** Queues ** are similar but in this case follow the First In First Out principle(FIFO). Think of this as a line in a black friday sale. The first person camped out for the big screen tv is the first to get it.\n",
    "\n",
    "##### Searching through a queue will be Linear Time O(n) - Constant Space O(1)\n",
    "##### Selecting the first item will be done in Constant Time O(1) - Constant Space O(1)\n",
    "##### Selecting the last item will be done in Linear Time O(n) - Constant Space O(1)\n",
    "##### Adding to the queue should take Constant Time O(1) - Constant Space O(1)"
   ]
  },
  {
   "cell_type": "code",
   "execution_count": 16,
   "metadata": {},
   "outputs": [],
   "source": [
    "# https://docs.python.org/3/library/collections.html#collections.deque\n",
    "\n",
    "from collections import deque"
   ]
  },
  {
   "cell_type": "code",
   "execution_count": 20,
   "metadata": {},
   "outputs": [
    {
     "name": "stdout",
     "output_type": "stream",
     "text": [
      "Stack:\n",
      "deque([10, 20, 30, 40, 50])\n",
      "50\n",
      "40\n",
      "30\n",
      "20\n",
      "10\n"
     ]
    }
   ],
   "source": [
    "print('Stack:')\n",
    "\n",
    "stack = deque([10,20,30])\n",
    "\n",
    "stack.append(40)\n",
    "stack.append(50)\n",
    "\n",
    "print(stack)\n",
    "\n",
    "while stack:\n",
    "    print(stack.pop())"
   ]
  },
  {
   "cell_type": "code",
   "execution_count": 22,
   "metadata": {},
   "outputs": [
    {
     "name": "stdout",
     "output_type": "stream",
     "text": [
      "Queue:\n",
      "deque(['Mike', 'Julie', 'Maura', 'Sean', 'Larry'])\n",
      "Mike\n",
      "Julie\n",
      "Maura\n",
      "Sean\n",
      "Larry\n"
     ]
    }
   ],
   "source": [
    "print('Queue:')\n",
    "\n",
    "queue = deque([])\n",
    "\n",
    "queue.append('Mike')\n",
    "queue.append('Julie')\n",
    "queue.append('Maura')\n",
    "queue.append('Sean')\n",
    "queue.append('Larry')\n",
    "\n",
    "print(queue)\n",
    "\n",
    "while queue:\n",
    "    print(queue.popleft())"
   ]
  },
  {
   "cell_type": "markdown",
   "metadata": {},
   "source": [
    "## Linked List (Data Structure)\n",
    "\n",
    "A linked list is created by using the node class. We create a Node object and create another class to use this node object. We pass the appropriate values thorugh the node object to point the to the next data elements.\n",
    "\n",
    "There are some advantages and disadvantages with this data structure. **Advantages** Linked Lists can save memory because they can be flexibile with memory management which saves memory. **Disadvantages** Finding or adding to the list requires traversing the entire list."
   ]
  },
  {
   "cell_type": "code",
   "execution_count": 23,
   "metadata": {},
   "outputs": [
    {
     "name": "stdout",
     "output_type": "stream",
     "text": [
      "Monday\n",
      "Tuesday\n",
      "Wednesday\n"
     ]
    }
   ],
   "source": [
    "class LinkedListNode:\n",
    "    def __init__(self, value):\n",
    "        self.value = value\n",
    "        self.next = None\n",
    "        \n",
    "    def traverse_list(self):\n",
    "        node = self\n",
    "        while node is not None:\n",
    "            print(node.value)\n",
    "            node = node.next\n",
    "            \n",
    "            \n",
    "node1 = LinkedListNode('Monday')\n",
    "node2 = LinkedListNode('Tuesday')\n",
    "node3 = LinkedListNode('Wednesday')\n",
    "\n",
    "node1.next = node2\n",
    "node2.next = node3\n",
    "\n",
    "node1.traverse_list()"
   ]
  },
  {
   "cell_type": "code",
   "execution_count": null,
   "metadata": {},
   "outputs": [],
   "source": [
    "# Complete Implementation of Linked List\n",
    "\n",
    "# 2 Classes - Node Class and Linked List Class\n",
    "\n"
   ]
  },
  {
   "cell_type": "code",
   "execution_count": null,
   "metadata": {},
   "outputs": [],
   "source": [
    "import time"
   ]
  },
  {
   "cell_type": "code",
   "execution_count": null,
   "metadata": {},
   "outputs": [],
   "source": [
    "a_linked_list = LinkedList()\n",
    "\n",
    "\n",
    "# Adding a new node the end of the list - O(n) - Linear Time\n",
    "start = time.time()\n",
    "\n",
    "for i in range(1000):\n",
    "    a_linked_list.append(i)\n",
    "\n",
    "end = time.time()\n",
    "\n",
    "print(end - start)\n",
    "\n",
    "# Adding a new node to the beginning of the list - O(1) - Constant Time\n",
    "start = time.time()\n",
    "\n",
    "for i in range(1000):\n",
    "    a_linked_list.push_on(i)\n",
    "\n",
    "end = time.time()\n",
    "\n",
    "print(end - start)"
   ]
  },
  {
   "cell_type": "code",
   "execution_count": null,
   "metadata": {},
   "outputs": [],
   "source": []
  },
  {
   "cell_type": "markdown",
   "metadata": {},
   "source": [
    "## Binary Search Trees"
   ]
  },
  {
   "cell_type": "code",
   "execution_count": null,
   "metadata": {},
   "outputs": [],
   "source": []
  },
  {
   "cell_type": "markdown",
   "metadata": {},
   "source": [
    "# Homework"
   ]
  },
  {
   "cell_type": "markdown",
   "metadata": {},
   "source": [
    "#### Problem 1: Add a .remove method to the LinkedList\n",
    "\n",
    "Add a method to the LinkedList class to remove a node from the list.\n",
    "\n",
    "The method should take in a string of the value to remove and remove the node with that value from the LinkedList."
   ]
  },
  {
   "cell_type": "code",
   "execution_count": null,
   "metadata": {},
   "outputs": [],
   "source": [
    "class Node:\n",
    "    def __init__(self, value):\n",
    "        self.value = value\n",
    "        self.next = None\n",
    "        \n",
    "    def __str__(self):\n",
    "        return self.value\n",
    "    \n",
    "    def __repr__(self):\n",
    "        return f\"<Node|{self.value}>\"\n",
    "    \n",
    "    \n",
    "class LinkedList:\n",
    "    def __init__(self):\n",
    "        self.head = None\n",
    "        \n",
    "    def _get_node(self, value_to_get):\n",
    "        check = self.head\n",
    "        while check is not None:\n",
    "            if check.value == value_to_get:\n",
    "                return check\n",
    "            check = check.next\n",
    "        return None\n",
    "        \n",
    "    def push_on(self, new_value):\n",
    "        new_node = Node(new_value)\n",
    "        new_node.next = self.head\n",
    "        self.head = new_node\n",
    "        \n",
    "    def append(self, new_value):\n",
    "        new_node = Node(new_value)\n",
    "        \n",
    "        if self.head is None:\n",
    "            self.head = new_node\n",
    "        else:\n",
    "            node = self.head\n",
    "            while node.next is not None:\n",
    "                node = node.next\n",
    "            node.next = new_node\n",
    "            \n",
    "    def insert_after(self, prev_value, new_value):\n",
    "        prev_node = self._get_node(prev_value)\n",
    "        if prev_node is None:\n",
    "            print(f\"{prev_value} is not in linked list\")\n",
    "            return\n",
    "        \n",
    "        new_node = Node(new_value)\n",
    "        new_node.next = prev_node.next\n",
    "        prev_node.next = new_node\n",
    "        \n",
    "    def traverse_list(self):\n",
    "        node = self.head\n",
    "        while node:\n",
    "            print(node) \n",
    "            node = node.next\n",
    "    \n",
    "    def remove(self, value_to_remove):\n",
    "        pass\n",
    "            \n",
    "    \n",
    "weekdays = LinkedList()\n",
    "list_of_days = ['Sunday', 'Monday', 'Tuesday', 'Wednesday', 'Thursday', 'Friday', 'Saturday']\n",
    "for day in list_of_days:\n",
    "    weekdays.append(day)\n",
    "\n",
    "# weekdays.remove('Wednesday')\n",
    "\n",
    "weekdays.traverse_list()"
   ]
  }
 ],
 "metadata": {
  "kernelspec": {
   "display_name": "Python 3 (ipykernel)",
   "language": "python",
   "name": "python3"
  },
  "language_info": {
   "codemirror_mode": {
    "name": "ipython",
    "version": 3
   },
   "file_extension": ".py",
   "mimetype": "text/x-python",
   "name": "python",
   "nbconvert_exporter": "python",
   "pygments_lexer": "ipython3",
   "version": "3.9.13"
  }
 },
 "nbformat": 4,
 "nbformat_minor": 2
}
